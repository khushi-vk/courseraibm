{
 "cells": [
  {
   "attachments": {},
   "cell_type": "markdown",
   "id": "604082e9",
   "metadata": {},
   "source": [
    "# Data Science Tools and Ecosystem"
   ]
  },
  {
   "attachments": {},
   "cell_type": "markdown",
   "id": "9ed17b19",
   "metadata": {},
   "source": [
    "In this notebook, Data Science Tools and Ecosystem are summarized."
   ]
  },
  {
   "attachments": {},
   "cell_type": "markdown",
   "id": "b2b86cf3",
   "metadata": {},
   "source": [
    "**Objectives:**\n",
    "\n",
    "- List popular languages for Data Science\n",
    "- Discuss common libraries used in Data Science\n",
    "- Introduce Data Science tools and their ecosystem\n",
    "- Demonstrate evaluation of arithmetic expressions in Python\n",
    "- Convert minutes to hours using Python code\n"
   ]
  },
  {
   "attachments": {},
   "cell_type": "markdown",
   "id": "ede5ff70",
   "metadata": {},
   "source": [
    "Some of the popular languages that Data Scientists use are:\n",
    "1. Python\n",
    "2. R\n",
    "3. SQL"
   ]
  },
  {
   "attachments": {},
   "cell_type": "markdown",
   "id": "bf789f93",
   "metadata": {},
   "source": [
    "Some of the commonly used libraries used by Data Scientists include:\n",
    "1. NumPy\n",
    "2. Pandas\n",
    "3. Matplotlib"
   ]
  },
  {
   "attachments": {},
   "cell_type": "markdown",
   "id": "08e89883",
   "metadata": {},
   "source": [
    "| Data Science Tools |\n",
    "| ----------------- |\n",
    "| Jupyter Notebook            |\n",
    "| Apache Spark            |\n",
    "| RStudio            |"
   ]
  },
  {
   "attachments": {},
   "cell_type": "markdown",
   "id": "2f4f9299",
   "metadata": {},
   "source": [
    "### Below are a few examples of evaluating arithmetic expressions in Python.\n"
   ]
  },
  {
   "cell_type": "code",
   "execution_count": 2,
   "id": "d5fdd894",
   "metadata": {},
   "outputs": [
    {
     "data": {
      "text/plain": [
       "17"
      ]
     },
     "execution_count": 2,
     "metadata": {},
     "output_type": "execute_result"
    }
   ],
   "source": [
    "# This is a simple arithmetic expression to multiply then add integers.\n",
    "(3*4)+5"
   ]
  },
  {
   "cell_type": "code",
   "execution_count": 3,
   "id": "acf15176",
   "metadata": {},
   "outputs": [
    {
     "data": {
      "text/plain": [
       "3.3333333333333335"
      ]
     },
     "execution_count": 3,
     "metadata": {},
     "output_type": "execute_result"
    }
   ],
   "source": [
    "# This will convert 200 minutes to hours by dividing by 60.\n",
    "200 / 60"
   ]
  },
  {
   "attachments": {},
   "cell_type": "markdown",
   "id": "74212f79",
   "metadata": {},
   "source": [
    "## Author\n",
    "Khushi Aggarwal"
   ]
  },
  {
   "cell_type": "markdown",
   "id": "a6db4ed0",
   "metadata": {},
   "source": []
  }
 ],
 "metadata": {
  "kernelspec": {
   "display_name": "Python 3 (ipykernel)",
   "language": "python",
   "name": "python3"
  },
  "language_info": {
   "codemirror_mode": {
    "name": "ipython",
    "version": 3
   },
   "file_extension": ".py",
   "mimetype": "text/x-python",
   "name": "python",
   "nbconvert_exporter": "python",
   "pygments_lexer": "ipython3",
   "version": "3.11.2"
  }
 },
 "nbformat": 4,
 "nbformat_minor": 5
}
